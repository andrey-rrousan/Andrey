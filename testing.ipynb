{
 "cells": [
  {
   "cell_type": "code",
   "execution_count": 1,
   "metadata": {},
   "outputs": [],
   "source": [
    "import numpy as np\n",
    "import matplotlib.pyplot as plt\n",
    "from tqdm.notebook import tqdm\n",
    "\n",
    "import pathlib\n",
    "import sys\n",
    "\n",
    "home = pathlib.Path().resolve().parent\n",
    "# path = str(pathlib.Path(home, r'Mukhin\\new_workspace'))\n",
    "sys.path.insert(0, home)\n",
    "\n",
    "from src.mixture_fit import gen_data, fits, fits_ls, sum_exp_curv, fit, sum_exp, loss_function, right_order\n",
    "from src.data_loading import load_data\n",
    "from src.optimal_number import optimal_params\n",
    "from src.log_data_analysis import log_estimate, bounds\n",
    "from src.errors import bootstrap_resudial, bootstrap_residual\n",
    "from src.bootstrapping import bootstrap, final_guess\n",
    "\n",
    "import warnings\n",
    "warnings.filterwarnings(\"ignore\", category=np.VisibleDeprecationWarning) \n",
    "\n",
    "%matplotlib widget"
   ]
  },
  {
   "attachments": {},
   "cell_type": "markdown",
   "metadata": {},
   "source": [
    "# Метрики\n",
    "1. Стабильность.\n",
    "\n",
    "Повторяемость получаемых результатов. Тестируется на наборе R2-5times + симуляции с различными погрешностями.\n",
    "\n",
    "2. Чувствительность/разрешающая способность.\n",
    "\n",
    "Способность различать две (или более) компоненты смеси при их наличии.\n",
    "\n",
    "Тестируется на наборах R2-R4 (worst case), R1-R2-x-*-*-new.txt, R2-R5-*-*-new.txt + симуляции с разным подбором коэффициентов самодиффузии и содержания компонент.\n",
    "\n",
    "3. Точность.\n",
    "\n",
    "Погрешность определения данных параметров смеси. Тестируется на симуляции с добавлением погрешностей, рассчитанных для R2-5times и DOSY-R2-1-4-DMSO-5points-1000raz-integrals.txt"
   ]
  },
  {
   "attachments": {},
   "cell_type": "markdown",
   "metadata": {},
   "source": [
    "### Стабильность"
   ]
  },
  {
   "cell_type": "code",
   "execution_count": 2,
   "metadata": {},
   "outputs": [],
   "source": [
    "def stability(fun: callable, mode='simulate', bs_num=100, comp_num=1, log=True, *args, **kwargs):\n",
    "    if mode == 'simulate':\n",
    "        if comp_num > 4:\n",
    "            raise ValueError('Current state of method only supports simmulation for up to 4 components')\n",
    "        D_coeff = np.array([1.042, 0.306, 0.694, 0.463])[:comp_num]\n",
    "        w_coeff = 1 / comp_num\n",
    "\n",
    "        parameters = np.zeros(2 * comp_num)\n",
    "        parameters[1::2] = D_coeff\n",
    "        parameters[::2] = w_coeff\n",
    "        folder = pathlib.Path(path,'data', 'R2_5times')\n",
    "        data_path = pathlib.Path(folder, f'DOSY-R2-1-4-DMSO-128points-1.txt')\n",
    "        x, _ = load_data(data_path)\n",
    "        y_model = sum_exp(parameters, x)\n",
    "\n",
    "        res, res_std, guessed_count = [], [], []\n",
    "        sigma_range = np.geomspace(2e-3, 2e-1, 15)\n",
    "        for sigma in sigma_range:\n",
    "            print(f'Processing sigma = {sigma:.2E}')\n",
    "            result, optim_res = bootstrap(fun, x, y_model, sigma, bs_num, *args, **kwargs)\n",
    "            correct_guess = (optim_res[:, 0] == comp_num-1)\n",
    "            if correct_guess.sum() == 0:\n",
    "                correct_mean = np.zeros(comp_num * 2)\n",
    "                correct_std = np.zeros(comp_num * 2)\n",
    "            else:\n",
    "                correct_mean = optim_res[:, 1][correct_guess].mean(0)\n",
    "                correct_std = ((optim_res[:, 1][correct_guess] - correct_mean.reshape(-1, 1)) ** 2).mean() ** 0.5\n",
    "            guessed_count.append(correct_guess.sum())\n",
    "            res.append(correct_mean)\n",
    "            res_std.append(correct_std)\n",
    "        \n",
    "        guessed_count = np.array(guessed_count)\n",
    "        res = np.vstack(res)\n",
    "        res_std = np.vstack(res_std)\n",
    "\n",
    "        if log:\n",
    "            plt.close('all')\n",
    "            plt.subplot(1, 3, 1)\n",
    "            plt.plot(sigma_range, guessed_count)\n",
    "            plt.ylim(-bs_num*0.05, 1.05*bs_num)\n",
    "            plt.xscale('log')\n",
    "            for i in range(comp_num):\n",
    "                plt.subplot(comp_num, 3, 2 + 3 * i)\n",
    "                plt.xscale('log')\n",
    "                plt.errorbar(sigma_range, res[:, 2 * i], res_std[:, 2 * i], fmt='.')\n",
    "                plt.subplot(comp_num, 3, 3 + 3 * i)\n",
    "                plt.xscale('log')\n",
    "                plt.errorbar(sigma_range, res[:, 2 * i+1], res_std[:, 2 * i+1], fmt='.')\n",
    "            plt.show()\n",
    "        \n",
    "        return sigma_range, guessed_count, res, res_std\n",
    "\n",
    "    elif mode == 'real':\n",
    "        results = []\n",
    "        y_arr = [] \n",
    "        for i in range(5):\n",
    "            folder = pathlib.Path(path,'data', 'R2_5times')\n",
    "            data_path = pathlib.Path(folder, f'DOSY-R2-1-4-DMSO-128points-{i + 1}.txt')\n",
    "            x, y = load_data(data_path)\n",
    "            y_arr.append(y)\n",
    "\n",
    "            res = fun(x, y, *args, **kwargs)\n",
    "            results.append(res)\n",
    "        y_arr = np.vstack(y_arr)\n",
    "        sigma = y_arr.std(0)\n",
    "        sigma[0] = sigma[1]\n",
    "        results = np.vstack(results)\n",
    "        results_std = ((results - results.mean(0)) ** 2).mean(0) ** 0.5\n",
    "        \n",
    "        guesses = []\n",
    "        correct_idx = []\n",
    "        for i in range(5):\n",
    "            guess = final_guess(x, y, sigma, results[i], results_std)\n",
    "            guesses.append(guess)\n",
    "            if guess[0] == 0:\n",
    "                correct_idx.append(i)\n",
    "            if log:\n",
    "                print(f'Guessed number of components = {guess[0] + 1}, params = {guess[1]}')\n",
    "        guesses = np.array(guesses)\n",
    "        if log:\n",
    "            print(f'Correctly guesses {len(correct_idx)}/5')\n",
    "            stacked = np.vstack(guesses[correct_idx])\n",
    "            stacked_mean = stacked[:, 1].mean(0)\n",
    "            stacked_std = ((stacked[:, 1] - stacked_mean.reshape(-1, 1)) ** 2).mean() ** 0.5\n",
    "            print(f'w = {stacked_mean[0]:.4f} ± {stacked_std[0]:.4f}')\n",
    "            print(f'D = {stacked_mean[1]:.4f} ± {stacked_std[1]:.4f}')   \n",
    "        return results, guesses\n",
    "            \n",
    "    else:\n",
    "        raise ValueError('Mode must be \"simulate\" or \"real\"!')"
   ]
  },
  {
   "cell_type": "code",
   "execution_count": 3,
   "metadata": {},
   "outputs": [
    {
     "ename": "ValueError",
     "evalue": "Mode must be \"simulate\" or \"real\"!",
     "output_type": "error",
     "traceback": [
      "\u001b[1;31m---------------------------------------------------------------------------\u001b[0m",
      "\u001b[1;31mValueError\u001b[0m                                Traceback (most recent call last)",
      "\u001b[1;32md:\\Programms\\Jupyter\\NPM\\NMR\\Mukhin\\testing.ipynb Cell 5\u001b[0m in \u001b[0;36m<cell line: 3>\u001b[1;34m()\u001b[0m\n\u001b[0;32m      <a href='vscode-notebook-cell:/d%3A/Programms/Jupyter/NPM/NMR/Mukhin/testing.ipynb#X16sZmlsZQ%3D%3D?line=0'>1</a>\u001b[0m \u001b[39m# sigma_range, guessed_count, res, res_std = stability(fits, comp_num=3, bs_num=100, log=True, method='L-BFGS-B', reg=0.05)\u001b[39;00m\n\u001b[0;32m      <a href='vscode-notebook-cell:/d%3A/Programms/Jupyter/NPM/NMR/Mukhin/testing.ipynb#X16sZmlsZQ%3D%3D?line=1'>2</a>\u001b[0m \u001b[39m# sigma_range, guessed_count, res, res_std = stability(fits_ls, comp_num=2, bs_num=100, log=True)\u001b[39;00m\n\u001b[1;32m----> <a href='vscode-notebook-cell:/d%3A/Programms/Jupyter/NPM/NMR/Mukhin/testing.ipynb#X16sZmlsZQ%3D%3D?line=2'>3</a>\u001b[0m res_real, guess \u001b[39m=\u001b[39m stability(fits_ls, mode\u001b[39m=\u001b[39;49m\u001b[39m0.01\u001b[39;49m)\n",
      "\u001b[1;32md:\\Programms\\Jupyter\\NPM\\NMR\\Mukhin\\testing.ipynb Cell 5\u001b[0m in \u001b[0;36mstability\u001b[1;34m(fun, mode, bs_num, comp_num, log, *args, **kwargs)\u001b[0m\n\u001b[0;32m     <a href='vscode-notebook-cell:/d%3A/Programms/Jupyter/NPM/NMR/Mukhin/testing.ipynb#X16sZmlsZQ%3D%3D?line=86'>87</a>\u001b[0m     \u001b[39mreturn\u001b[39;00m results, guesses\n\u001b[0;32m     <a href='vscode-notebook-cell:/d%3A/Programms/Jupyter/NPM/NMR/Mukhin/testing.ipynb#X16sZmlsZQ%3D%3D?line=88'>89</a>\u001b[0m \u001b[39melse\u001b[39;00m:\n\u001b[1;32m---> <a href='vscode-notebook-cell:/d%3A/Programms/Jupyter/NPM/NMR/Mukhin/testing.ipynb#X16sZmlsZQ%3D%3D?line=89'>90</a>\u001b[0m     \u001b[39mraise\u001b[39;00m \u001b[39mValueError\u001b[39;00m(\u001b[39m'\u001b[39m\u001b[39mMode must be \u001b[39m\u001b[39m\"\u001b[39m\u001b[39msimulate\u001b[39m\u001b[39m\"\u001b[39m\u001b[39m or \u001b[39m\u001b[39m\"\u001b[39m\u001b[39mreal\u001b[39m\u001b[39m\"\u001b[39m\u001b[39m!\u001b[39m\u001b[39m'\u001b[39m)\n",
      "\u001b[1;31mValueError\u001b[0m: Mode must be \"simulate\" or \"real\"!"
     ]
    }
   ],
   "source": [
    "# sigma_range, guessed_count, res, res_std = stability(fits, comp_num=3, bs_num=100, log=True, method='L-BFGS-B', reg=0.05)\n",
    "# sigma_range, guessed_count, res, res_std = stability(fits_ls, comp_num=2, bs_num=100, log=True)\n",
    "res_real, guess = stability(fits_ls, mode='real')"
   ]
  },
  {
   "cell_type": "code",
   "execution_count": 10,
   "metadata": {},
   "outputs": [
    {
     "name": "stdout",
     "output_type": "stream",
     "text": [
      "Processing sigma = 1.00E-05\n"
     ]
    },
    {
     "data": {
      "application/vnd.jupyter.widget-view+json": {
       "model_id": "45a461fe562e4f58ba8900e40ceeb394",
       "version_major": 2,
       "version_minor": 0
      },
      "text/plain": [
       "  0%|          | 0/1000 [00:00<?, ?it/s]"
      ]
     },
     "metadata": {},
     "output_type": "display_data"
    },
    {
     "name": "stdout",
     "output_type": "stream",
     "text": [
      "Processing sigma = 1.84E-05\n"
     ]
    },
    {
     "data": {
      "application/vnd.jupyter.widget-view+json": {
       "model_id": "9da916dc6abc4c39ba448953ab0d74c7",
       "version_major": 2,
       "version_minor": 0
      },
      "text/plain": [
       "  0%|          | 0/1000 [00:00<?, ?it/s]"
      ]
     },
     "metadata": {},
     "output_type": "display_data"
    },
    {
     "name": "stdout",
     "output_type": "stream",
     "text": [
      "Processing sigma = 3.38E-05\n"
     ]
    },
    {
     "data": {
      "application/vnd.jupyter.widget-view+json": {
       "model_id": "b5cb191f555c4c4a8cc7735358395095",
       "version_major": 2,
       "version_minor": 0
      },
      "text/plain": [
       "  0%|          | 0/1000 [00:00<?, ?it/s]"
      ]
     },
     "metadata": {},
     "output_type": "display_data"
    },
    {
     "name": "stdout",
     "output_type": "stream",
     "text": [
      "Processing sigma = 6.20E-05\n"
     ]
    },
    {
     "data": {
      "application/vnd.jupyter.widget-view+json": {
       "model_id": "ff6029c7795644c391efc7e79f3fe977",
       "version_major": 2,
       "version_minor": 0
      },
      "text/plain": [
       "  0%|          | 0/1000 [00:00<?, ?it/s]"
      ]
     },
     "metadata": {},
     "output_type": "display_data"
    },
    {
     "name": "stdout",
     "output_type": "stream",
     "text": [
      "Processing sigma = 1.14E-04\n"
     ]
    },
    {
     "data": {
      "application/vnd.jupyter.widget-view+json": {
       "model_id": "fd67c404c2ca42458f3e44fe8328cf8e",
       "version_major": 2,
       "version_minor": 0
      },
      "text/plain": [
       "  0%|          | 0/1000 [00:00<?, ?it/s]"
      ]
     },
     "metadata": {},
     "output_type": "display_data"
    },
    {
     "name": "stdout",
     "output_type": "stream",
     "text": [
      "Processing sigma = 2.09E-04\n"
     ]
    },
    {
     "data": {
      "application/vnd.jupyter.widget-view+json": {
       "model_id": "681e461de426479aa94ea8ed469b9e92",
       "version_major": 2,
       "version_minor": 0
      },
      "text/plain": [
       "  0%|          | 0/1000 [00:00<?, ?it/s]"
      ]
     },
     "metadata": {},
     "output_type": "display_data"
    },
    {
     "name": "stdout",
     "output_type": "stream",
     "text": [
      "Processing sigma = 3.85E-04\n"
     ]
    },
    {
     "data": {
      "application/vnd.jupyter.widget-view+json": {
       "model_id": "c37aeefa6fb044959050f41b32652db2",
       "version_major": 2,
       "version_minor": 0
      },
      "text/plain": [
       "  0%|          | 0/1000 [00:00<?, ?it/s]"
      ]
     },
     "metadata": {},
     "output_type": "display_data"
    },
    {
     "name": "stdout",
     "output_type": "stream",
     "text": [
      "Processing sigma = 7.07E-04\n"
     ]
    },
    {
     "data": {
      "application/vnd.jupyter.widget-view+json": {
       "model_id": "8bf2d48b378b477b8698cd396990cbef",
       "version_major": 2,
       "version_minor": 0
      },
      "text/plain": [
       "  0%|          | 0/1000 [00:00<?, ?it/s]"
      ]
     },
     "metadata": {},
     "output_type": "display_data"
    },
    {
     "name": "stdout",
     "output_type": "stream",
     "text": [
      "Processing sigma = 1.30E-03\n"
     ]
    },
    {
     "data": {
      "application/vnd.jupyter.widget-view+json": {
       "model_id": "986448591142465ca6d875b3b0c744f3",
       "version_major": 2,
       "version_minor": 0
      },
      "text/plain": [
       "  0%|          | 0/1000 [00:00<?, ?it/s]"
      ]
     },
     "metadata": {},
     "output_type": "display_data"
    },
    {
     "name": "stdout",
     "output_type": "stream",
     "text": [
      "Processing sigma = 2.39E-03\n"
     ]
    },
    {
     "data": {
      "application/vnd.jupyter.widget-view+json": {
       "model_id": "1d226aca6c80493380119ee07cb28b2a",
       "version_major": 2,
       "version_minor": 0
      },
      "text/plain": [
       "  0%|          | 0/1000 [00:00<?, ?it/s]"
      ]
     },
     "metadata": {},
     "output_type": "display_data"
    }
   ],
   "source": [
    "# sigma_range, guessed_count, res, res_std = stability(fits, comp_num=2, bs_num=100, log=True, method='L-BFGS-B', reg=0.05)\n",
    "sigma_range, guessed_count, res, res_std = stability(fits_ls, comp_num=2, bs_num=1000, log=True, solver='exact')"
   ]
  },
  {
   "attachments": {},
   "cell_type": "markdown",
   "metadata": {},
   "source": [
    "### Разрешающая способность"
   ]
  },
  {
   "cell_type": "code",
   "execution_count": 126,
   "metadata": {},
   "outputs": [],
   "source": [
    "def resolution(function: callable, *args, **kwargs):\n",
    "    func = lambda x, y: function(x, y, *args, **kwargs)\n",
    "    \n",
    "    folder = pathlib.Path(path,'data', 'R1-R2')\n",
    "    data_path = pathlib.Path(folder, f'R1-R2-1-5-new.txt')\n",
    "    x, y = load_data(data_path)\n",
    "    params = func(x, y)\n",
    "    \n",
    "    optimal_output = optimal_params(x, y, params)\n",
    "\n",
    "    # print('CALCULATING ERROR PLOT')\n",
    "    # err_array = np.linspace(1e-3, 0.25, 50)\n",
    "    # art_mean = np.zeros((len(err_array),2))\n",
    "    # art_std = np.zeros((len(err_array),2))\n",
    "    # for idx, err in tqdm(enumerate(err_array), total=len(err_array)):\n",
    "    #     art_set = _stability(function, real_data=False,\n",
    "    #                         params=params_mean[0], err=err, *args, **kwargs)\n",
    "    #     curr_art_mean = art_set.mean(0)\n",
    "    #     curr_art_std = ((art_set - curr_art_mean) ** 2).mean(0) ** 0.5\n",
    "    #     art_mean[idx] = curr_art_mean[0]\n",
    "    #     art_std[idx] = curr_art_std[0]\n",
    "    \n",
    "    # plt.close('all')\n",
    "    # plt.figure(figsize=(12, 5))\n",
    "    # plt.subplot(1,2,1)\n",
    "    # plt.title('w value')\n",
    "    # plt.plot(err_array, art_mean[:,0])\n",
    "    # plt.fill_between(err_array, art_mean[:,0]-art_std[:,0], art_mean[:,0]+art_std[:,0], alpha=0.2)\n",
    "    # plt.subplot(1,2,2)\n",
    "    # plt.title('D value')\n",
    "    # plt.plot(err_array, art_mean[:,1])\n",
    "    # plt.fill_between(err_array, art_mean[:,1]-art_std[:,1], art_mean[:,1]+art_std[:,1], alpha=0.2)\n",
    "    # plt.show()\n",
    "\n",
    "    return params, optimal_output"
   ]
  },
  {
   "cell_type": "code",
   "execution_count": 127,
   "metadata": {},
   "outputs": [
    {
     "data": {
      "text/plain": [
       "([array([0.96138946, 0.79009411]),\n",
       "  array([0.20685028, 0.35876391, 0.79798729, 1.07460789]),\n",
       "  array([0.17924528, 0.33378813, 0.81750565, 1.03995514, 0.01140963,\n",
       "         5.70617933]),\n",
       "  array([2.36733552e-02, 1.22528072e-01, 2.47754577e-01, 4.79953218e-01,\n",
       "         7.30504103e-01, 1.10081122e+00, 6.54927903e-03, 9.66697258e+00]),\n",
       "  array([2.38131253e-02, 1.23082471e-01, 2.47780843e-01, 4.80313981e-01,\n",
       "         2.79513699e-01, 1.10086355e+00, 4.50825742e-01, 1.10089979e+00,\n",
       "         6.54797333e-03, 9.66870196e+00])],\n",
       " (array([-1049.225648  , -1706.24557863, -1722.67315349, -1720.45813228,\n",
       "         -1716.45813126]),\n",
       "  array([5.79071588e-147, 2.70892788e-004, 1.00000000e+000, 3.30380385e-001,\n",
       "         4.47121003e-002]),\n",
       "  array([-1043.52158747, -1694.83745757, -1705.56097191, -1697.64189016,\n",
       "         -1687.93782862]),\n",
       "  array([1.73769787e-144, 4.69265308e-003, 1.00000000e+000, 1.90718687e-002,\n",
       "         1.48998899e-004]),\n",
       "  2,\n",
       "  2,\n",
       "  2))"
      ]
     },
     "execution_count": 127,
     "metadata": {},
     "output_type": "execute_result"
    }
   ],
   "source": [
    "resolution(fits_linsqr, solver='exact')"
   ]
  },
  {
   "cell_type": "code",
   "execution_count": 128,
   "metadata": {},
   "outputs": [
    {
     "data": {
      "text/plain": [
       "([array([0.96138964, 0.7900944 ]),\n",
       "  array([0.20684293, 0.35875697, 0.79799428, 1.07460111]),\n",
       "  array([0.17922534, 0.33376844, 0.81751994, 1.03993145, 0.01141524,\n",
       "         5.70409152]),\n",
       "  array([1.25733264e-01, 2.86133975e-01, 3.92129945e-01, 8.06570080e-01,\n",
       "         4.83917651e-01, 1.18630076e+00, 6.55314303e-03, 8.68916830e+00]),\n",
       "  array([ 0.09972043,  0.2521519 ,  0.63821672,  0.83318023,  0.32663954,\n",
       "          1.58483989, -0.07439655,  2.76422795,  0.01836583,  6.51366223])],\n",
       " (array([-1049.225648  , -1706.24557772, -1722.67315001, -1720.25620303,\n",
       "         -1717.0439614 ]),\n",
       "  array([5.79072595e-147, 2.70893137e-004, 1.00000000e+000, 2.98652827e-001,\n",
       "         5.99290265e-002]),\n",
       "  array([-1043.52158747, -1694.83745667, -1705.56096843, -1697.43996091,\n",
       "         -1688.52365876]),\n",
       "  array([1.73770089e-144, 4.69265913e-003, 1.00000000e+000, 1.72403320e-002,\n",
       "         1.99707885e-004]),\n",
       "  2,\n",
       "  2,\n",
       "  2))"
      ]
     },
     "execution_count": 128,
     "metadata": {},
     "output_type": "execute_result"
    }
   ],
   "source": [
    "resolution(fits, method='BFGS')"
   ]
  }
 ],
 "metadata": {
  "kernelspec": {
   "display_name": "base",
   "language": "python",
   "name": "python3"
  },
  "language_info": {
   "codemirror_mode": {
    "name": "ipython",
    "version": 3
   },
   "file_extension": ".py",
   "mimetype": "text/x-python",
   "name": "python",
   "nbconvert_exporter": "python",
   "pygments_lexer": "ipython3",
   "version": "3.9.7"
  },
  "orig_nbformat": 4
 },
 "nbformat": 4,
 "nbformat_minor": 2
}
