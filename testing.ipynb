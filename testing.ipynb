{
 "cells": [
  {
   "cell_type": "code",
   "execution_count": 1,
   "metadata": {},
   "outputs": [],
   "source": [
    "import numpy as np\n",
    "import matplotlib.pyplot as plt\n",
    "from tqdm.notebook import tqdm\n",
    "\n",
    "import pathlib\n",
    "import sys\n",
    "\n",
    "home = pathlib.Path().resolve().parent\n",
    "path = str(pathlib.Path(home, r'Andrey'))\n",
    "sys.path.insert(0, home)\n",
    "\n",
    "from src.mixture_fit import gen_data, fits, fits_ls, sum_exp_curv, fit, sum_exp, loss_function, right_order\n",
    "from src.data_loading import load_data\n",
    "from src.optimal_number import optimal_params\n",
    "from src.log_data_analysis import log_estimate, bounds\n",
    "from src.errors import bootstrap_resudial, bootstrap_residual\n",
    "from src.bootstrapping import bootstrap, final_guess\n",
    "\n",
    "import warnings\n",
    "warnings.filterwarnings(\"ignore\", category=np.VisibleDeprecationWarning) \n",
    "\n",
    "%matplotlib widget"
   ]
  },
  {
   "attachments": {},
   "cell_type": "markdown",
   "metadata": {},
   "source": [
    "# Метрики\n",
    "1. Стабильность.\n",
    "\n",
    "Повторяемость получаемых результатов. Тестируется на наборе R2-5times + симуляции с различными погрешностями.\n",
    "\n",
    "2. Чувствительность/разрешающая способность.\n",
    "\n",
    "Способность различать две (или более) компоненты смеси при их наличии.\n",
    "\n",
    "Тестируется на наборах R2-R4 (worst case), R1-R2-x-*-*-new.txt, R2-R5-*-*-new.txt + симуляции с разным подбором коэффициентов самодиффузии и содержания компонент.\n",
    "\n",
    "3. Точность.\n",
    "\n",
    "Погрешность определения данных параметров смеси. Тестируется на симуляции с добавлением погрешностей, рассчитанных для R2-5times и DOSY-R2-1-4-DMSO-5points-1000raz-integrals.txt"
   ]
  },
  {
   "attachments": {},
   "cell_type": "markdown",
   "metadata": {},
   "source": [
    "### Стабильность"
   ]
  },
  {
   "cell_type": "code",
   "execution_count": 36,
   "metadata": {},
   "outputs": [],
   "source": [
    "def stability(fun: callable, mode='simulate', bs_num=100, comp_num=1, log=True, *args, **kwargs):\n",
    "    if mode == 'simulate':\n",
    "        if comp_num > 4:\n",
    "            raise ValueError('Current state of method only supports simmulation for up to 4 components')\n",
    "        D_coeff = np.array([1.042, 0.306, 0.694, 0.463])[:comp_num]\n",
    "        w_coeff = 1 / comp_num\n",
    "\n",
    "        parameters = np.zeros(2 * comp_num)\n",
    "        parameters[1::2] = D_coeff\n",
    "        parameters[::2] = w_coeff\n",
    "        folder = pathlib.Path(path,'data', 'R2_5times')\n",
    "        data_path = pathlib.Path(folder, f'DOSY-R2-1-4-DMSO-128points-1.txt')\n",
    "        x, _ = load_data(data_path)\n",
    "        y_model = sum_exp(parameters, x)\n",
    "\n",
    "        res, res_std, guessed_count = [], [], []\n",
    "        sigma_range = np.geomspace(2e-3, 2e-1, 15)\n",
    "        for sigma in sigma_range:\n",
    "            print(f'Processing sigma = {sigma:.2E}')\n",
    "            result, optim_res = bootstrap(fun, x, y_model, sigma, bs_num, *args, **kwargs)\n",
    "            correct_guess = (optim_res[:, 0] == comp_num-1)\n",
    "            if correct_guess.sum() == 0:\n",
    "                correct_mean = np.zeros(comp_num * 2)\n",
    "                correct_std = np.zeros(comp_num * 2)\n",
    "            else:\n",
    "                stacked_res = np.vstack(optim_res[:, 1][correct_guess])\n",
    "                correct_mean = stacked_res.mean(0)\n",
    "                correct_std = stacked_res.std(0)\n",
    "            guessed_count.append(correct_guess.sum())\n",
    "            res.append(correct_mean)\n",
    "            res_std.append(correct_std)\n",
    "        \n",
    "        guessed_count = np.array(guessed_count)\n",
    "        res = np.vstack(res)\n",
    "        res_std = np.vstack(res_std)\n",
    "\n",
    "        if log:\n",
    "            plt.close('all')\n",
    "            plt.subplot(1, 3, 1)\n",
    "            plt.plot(sigma_range, guessed_count)\n",
    "            plt.ylim(-bs_num*0.05, 1.05*bs_num)\n",
    "            plt.xscale('log')\n",
    "            for i in range(comp_num):\n",
    "                plt.subplot(comp_num, 3, 2 + 3 * i)\n",
    "                plt.xscale('log')\n",
    "                plt.hlines(parameters[2 * i], sigma_range[0], sigma_range[-1])\n",
    "                plt.errorbar(sigma_range, res[:, 2 * i], res_std[:, 2 * i], fmt='.')\n",
    "                \n",
    "                plt.subplot(comp_num, 3, 3 + 3 * i)\n",
    "                plt.xscale('log')\n",
    "                plt.hlines(parameters[2 * i + 1], sigma_range[0], sigma_range[-1])\n",
    "                plt.errorbar(sigma_range, res[:, 2 * i+1], res_std[:, 2 * i+1], fmt='.')\n",
    "            \n",
    "            plt.show()\n",
    "        \n",
    "        return sigma_range, guessed_count, res, res_std\n",
    "\n",
    "    elif mode == 'real':\n",
    "        results = []\n",
    "        y_arr = [] \n",
    "        for i in range(5):\n",
    "            folder = pathlib.Path(path,'data', 'R2_5times')\n",
    "            data_path = pathlib.Path(folder, f'DOSY-R2-1-4-DMSO-128points-{i + 1}.txt')\n",
    "            x, y = load_data(data_path)\n",
    "            y_arr.append(y)\n",
    "\n",
    "            res = fun(x, y, *args, **kwargs)\n",
    "            results.append(res)\n",
    "        y_arr = np.vstack(y_arr)\n",
    "        sigma = y_arr.std(0)\n",
    "        sigma[0] = sigma[1]\n",
    "        results = np.vstack(results)\n",
    "        results_std = ((results - results.mean(0)) ** 2).mean(0) ** 0.5\n",
    "        \n",
    "        guesses = []\n",
    "        correct_idx = []\n",
    "        for i in range(5):\n",
    "            guess = final_guess(x, y, sigma, results[i], results_std)\n",
    "            guesses.append(guess)\n",
    "            if guess[0] == 0:\n",
    "                correct_idx.append(i)\n",
    "            if log:\n",
    "                print(f'Guessed number of components = {guess[0] + 1}, params = {guess[1]}')\n",
    "        guesses = np.array(guesses)\n",
    "        if log:\n",
    "            print(f'Correctly guesses {len(correct_idx)}/5')\n",
    "            stacked = np.vstack(guesses[correct_idx])\n",
    "            stacked_mean = stacked[:, 1].mean(0)\n",
    "            stacked_std = ((stacked[:, 1] - stacked_mean.reshape(-1, 1)) ** 2).mean() ** 0.5\n",
    "            print(f'w = {stacked_mean[0]:.4f} ± {stacked_std[0]:.4f}')\n",
    "            print(f'D = {stacked_mean[1]:.4f} ± {stacked_std[1]:.4f}')   \n",
    "        return results, guesses\n",
    "            \n",
    "    else:\n",
    "        raise ValueError('Mode must be \"simulate\" or \"real\"!')"
   ]
  },
  {
   "cell_type": "code",
   "execution_count": 33,
   "metadata": {},
   "outputs": [
    {
     "name": "stdout",
     "output_type": "stream",
     "text": [
      "Guessed number of components = 1, params = [0.99279708 1.11163779]\n",
      "Guessed number of components = 2, params = [0.50928806 1.10719319 0.50928806 1.1071932 ]\n",
      "Guessed number of components = 1, params = [0.9954679  1.10893701]\n",
      "Guessed number of components = 1, params = [0.9982102  1.11814195]\n",
      "Guessed number of components = 1, params = [0.99715746 1.13485381]\n",
      "Correctly guesses 4/5\n",
      "w = 0.9959 ± 0.0866\n",
      "D = 1.1184 ± 0.0872\n"
     ]
    }
   ],
   "source": [
    "# sigma_range, guessed_count, res, res_std = stability(fits, comp_num=3, bs_num=100, log=True, method='L-BFGS-B', reg=0.05)\n",
    "# sigma_range, guessed_count, res, res_std = stability(fits_ls, comp_num=2, bs_num=100, log=True)\n",
    "res_real, guess = stability(fits_ls, mode='real')"
   ]
  },
  {
   "cell_type": "code",
   "execution_count": 37,
   "metadata": {},
   "outputs": [
    {
     "name": "stdout",
     "output_type": "stream",
     "text": [
      "Processing sigma = 2.00E-03\n"
     ]
    },
    {
     "data": {
      "application/vnd.jupyter.widget-view+json": {
       "model_id": "010e72526dfe4707a950c4e86839b106",
       "version_major": 2,
       "version_minor": 0
      },
      "text/plain": [
       "  0%|          | 0/100 [00:00<?, ?it/s]"
      ]
     },
     "metadata": {},
     "output_type": "display_data"
    },
    {
     "name": "stdout",
     "output_type": "stream",
     "text": [
      "Processing sigma = 2.78E-03\n"
     ]
    },
    {
     "data": {
      "application/vnd.jupyter.widget-view+json": {
       "model_id": "03c95dd853884a6dbcc168cc97ca59f3",
       "version_major": 2,
       "version_minor": 0
      },
      "text/plain": [
       "  0%|          | 0/100 [00:00<?, ?it/s]"
      ]
     },
     "metadata": {},
     "output_type": "display_data"
    },
    {
     "name": "stdout",
     "output_type": "stream",
     "text": [
      "Processing sigma = 3.86E-03\n"
     ]
    },
    {
     "data": {
      "application/vnd.jupyter.widget-view+json": {
       "model_id": "a7af894eb868494cbf4e2ef97f35419b",
       "version_major": 2,
       "version_minor": 0
      },
      "text/plain": [
       "  0%|          | 0/100 [00:00<?, ?it/s]"
      ]
     },
     "metadata": {},
     "output_type": "display_data"
    },
    {
     "name": "stdout",
     "output_type": "stream",
     "text": [
      "Processing sigma = 5.37E-03\n"
     ]
    },
    {
     "data": {
      "application/vnd.jupyter.widget-view+json": {
       "model_id": "3d20c9d586fb4bf39c56ac17069d7d43",
       "version_major": 2,
       "version_minor": 0
      },
      "text/plain": [
       "  0%|          | 0/100 [00:00<?, ?it/s]"
      ]
     },
     "metadata": {},
     "output_type": "display_data"
    },
    {
     "name": "stdout",
     "output_type": "stream",
     "text": [
      "Processing sigma = 7.46E-03\n"
     ]
    },
    {
     "data": {
      "application/vnd.jupyter.widget-view+json": {
       "model_id": "21b83f1e6dc74bef88218d8662c6bd14",
       "version_major": 2,
       "version_minor": 0
      },
      "text/plain": [
       "  0%|          | 0/100 [00:00<?, ?it/s]"
      ]
     },
     "metadata": {},
     "output_type": "display_data"
    },
    {
     "name": "stdout",
     "output_type": "stream",
     "text": [
      "Processing sigma = 1.04E-02\n"
     ]
    },
    {
     "data": {
      "application/vnd.jupyter.widget-view+json": {
       "model_id": "a84a1ecb5e9345dca86a08205f94fd11",
       "version_major": 2,
       "version_minor": 0
      },
      "text/plain": [
       "  0%|          | 0/100 [00:00<?, ?it/s]"
      ]
     },
     "metadata": {},
     "output_type": "display_data"
    },
    {
     "name": "stdout",
     "output_type": "stream",
     "text": [
      "Processing sigma = 1.44E-02\n"
     ]
    },
    {
     "data": {
      "application/vnd.jupyter.widget-view+json": {
       "model_id": "5aa8c41808e54901a6b1535054751224",
       "version_major": 2,
       "version_minor": 0
      },
      "text/plain": [
       "  0%|          | 0/100 [00:00<?, ?it/s]"
      ]
     },
     "metadata": {},
     "output_type": "display_data"
    },
    {
     "name": "stdout",
     "output_type": "stream",
     "text": [
      "Processing sigma = 2.00E-02\n"
     ]
    },
    {
     "data": {
      "application/vnd.jupyter.widget-view+json": {
       "model_id": "aa23ad689c8440b78b9c7681d7a67a82",
       "version_major": 2,
       "version_minor": 0
      },
      "text/plain": [
       "  0%|          | 0/100 [00:00<?, ?it/s]"
      ]
     },
     "metadata": {},
     "output_type": "display_data"
    },
    {
     "name": "stdout",
     "output_type": "stream",
     "text": [
      "Processing sigma = 2.78E-02\n"
     ]
    },
    {
     "data": {
      "application/vnd.jupyter.widget-view+json": {
       "model_id": "1c05362a68e24f7eaa8ae8608e6c3b01",
       "version_major": 2,
       "version_minor": 0
      },
      "text/plain": [
       "  0%|          | 0/100 [00:00<?, ?it/s]"
      ]
     },
     "metadata": {},
     "output_type": "display_data"
    },
    {
     "name": "stdout",
     "output_type": "stream",
     "text": [
      "Processing sigma = 3.86E-02\n"
     ]
    },
    {
     "data": {
      "application/vnd.jupyter.widget-view+json": {
       "model_id": "7f7d66de47664b9a8c6d7f4d0902e3e4",
       "version_major": 2,
       "version_minor": 0
      },
      "text/plain": [
       "  0%|          | 0/100 [00:00<?, ?it/s]"
      ]
     },
     "metadata": {},
     "output_type": "display_data"
    },
    {
     "name": "stdout",
     "output_type": "stream",
     "text": [
      "Processing sigma = 5.37E-02\n"
     ]
    },
    {
     "data": {
      "application/vnd.jupyter.widget-view+json": {
       "model_id": "da8be281b1d341bb9e67485ceb76b8c8",
       "version_major": 2,
       "version_minor": 0
      },
      "text/plain": [
       "  0%|          | 0/100 [00:00<?, ?it/s]"
      ]
     },
     "metadata": {},
     "output_type": "display_data"
    },
    {
     "name": "stdout",
     "output_type": "stream",
     "text": [
      "Processing sigma = 7.46E-02\n"
     ]
    },
    {
     "data": {
      "application/vnd.jupyter.widget-view+json": {
       "model_id": "631d6b60435b42579d98a22f2f507f0b",
       "version_major": 2,
       "version_minor": 0
      },
      "text/plain": [
       "  0%|          | 0/100 [00:00<?, ?it/s]"
      ]
     },
     "metadata": {},
     "output_type": "display_data"
    },
    {
     "name": "stdout",
     "output_type": "stream",
     "text": [
      "Processing sigma = 1.04E-01\n"
     ]
    },
    {
     "data": {
      "application/vnd.jupyter.widget-view+json": {
       "model_id": "00c7e870b1d845078d84bdc972e807cf",
       "version_major": 2,
       "version_minor": 0
      },
      "text/plain": [
       "  0%|          | 0/100 [00:00<?, ?it/s]"
      ]
     },
     "metadata": {},
     "output_type": "display_data"
    },
    {
     "name": "stdout",
     "output_type": "stream",
     "text": [
      "Processing sigma = 1.44E-01\n"
     ]
    },
    {
     "data": {
      "application/vnd.jupyter.widget-view+json": {
       "model_id": "0da2926838d24e71bf6829b3c51a0099",
       "version_major": 2,
       "version_minor": 0
      },
      "text/plain": [
       "  0%|          | 0/100 [00:00<?, ?it/s]"
      ]
     },
     "metadata": {},
     "output_type": "display_data"
    },
    {
     "name": "stdout",
     "output_type": "stream",
     "text": [
      "Processing sigma = 2.00E-01\n"
     ]
    },
    {
     "data": {
      "application/vnd.jupyter.widget-view+json": {
       "model_id": "1274e63080464a79a9131609b57e627e",
       "version_major": 2,
       "version_minor": 0
      },
      "text/plain": [
       "  0%|          | 0/100 [00:00<?, ?it/s]"
      ]
     },
     "metadata": {},
     "output_type": "display_data"
    },
    {
     "data": {
      "application/vnd.jupyter.widget-view+json": {
       "model_id": "53c525eaa0804405a835881e9c77b695",
       "version_major": 2,
       "version_minor": 0
      },
      "image/png": "[encoded data removed]",
      "text/html": [
       "\n",
       "            <div style=\"display: inline-block;\">\n",
       "                <div class=\"jupyter-widgets widget-label\" style=\"text-align: center;\">\n",
       "                    Figure\n",
       "                </div>\n",
       "                <img src='data:image/png;base64,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' width=640.0/>\n",
       "            </div>\n",
       "        "
      ],
      "text/plain": [
       "Canvas(toolbar=Toolbar(toolitems=[('Home', 'Reset original view', 'home', 'home'), ('Back', 'Back to previous …"
      ]
     },
     "metadata": {},
     "output_type": "display_data"
    }
   ],
   "source": [
    "sigma_range, guessed_count, res, res_std = stability(fits, comp_num=1, bs_num=100, log=True, method='L-BFGS-B', reg=0.05)\n",
    "# sigma_range, guessed_count, res, res_std = stability(fits_ls, comp_num=2, bs_num=50, log=True, solver='exact')"
   ]
  },
  {
   "attachments": {},
   "cell_type": "markdown",
   "metadata": {},
   "source": [
    "### Разрешающая способность"
   ]
  },
  {
   "cell_type": "code",
   "execution_count": 126,
   "metadata": {},
   "outputs": [],
   "source": [
    "def resolution(function: callable, *args, **kwargs):\n",
    "    func = lambda x, y: function(x, y, *args, **kwargs)\n",
    "    \n",
    "    folder = pathlib.Path(path,'data', 'R1-R2')\n",
    "    data_path = pathlib.Path(folder, f'R1-R2-1-5-new.txt')\n",
    "    x, y = load_data(data_path)\n",
    "    params = func(x, y)\n",
    "    \n",
    "    optimal_output = optimal_params(x, y, params)\n",
    "\n",
    "    # print('CALCULATING ERROR PLOT')\n",
    "    # err_array = np.linspace(1e-3, 0.25, 50)\n",
    "    # art_mean = np.zeros((len(err_array),2))\n",
    "    # art_std = np.zeros((len(err_array),2))\n",
    "    # for idx, err in tqdm(enumerate(err_array), total=len(err_array)):\n",
    "    #     art_set = _stability(function, real_data=False,\n",
    "    #                         params=params_mean[0], err=err, *args, **kwargs)\n",
    "    #     curr_art_mean = art_set.mean(0)\n",
    "    #     curr_art_std = ((art_set - curr_art_mean) ** 2).mean(0) ** 0.5\n",
    "    #     art_mean[idx] = curr_art_mean[0]\n",
    "    #     art_std[idx] = curr_art_std[0]\n",
    "    \n",
    "    # plt.close('all')\n",
    "    # plt.figure(figsize=(12, 5))\n",
    "    # plt.subplot(1,2,1)\n",
    "    # plt.title('w value')\n",
    "    # plt.plot(err_array, art_mean[:,0])\n",
    "    # plt.fill_between(err_array, art_mean[:,0]-art_std[:,0], art_mean[:,0]+art_std[:,0], alpha=0.2)\n",
    "    # plt.subplot(1,2,2)\n",
    "    # plt.title('D value')\n",
    "    # plt.plot(err_array, art_mean[:,1])\n",
    "    # plt.fill_between(err_array, art_mean[:,1]-art_std[:,1], art_mean[:,1]+art_std[:,1], alpha=0.2)\n",
    "    # plt.show()\n",
    "\n",
    "    return params, optimal_output"
   ]
  },
  {
   "cell_type": "code",
   "execution_count": 127,
   "metadata": {},
   "outputs": [
    {
     "data": {
      "text/plain": [
       "([array([0.96138946, 0.79009411]),\n",
       "  array([0.20685028, 0.35876391, 0.79798729, 1.07460789]),\n",
       "  array([0.17924528, 0.33378813, 0.81750565, 1.03995514, 0.01140963,\n",
       "         5.70617933]),\n",
       "  array([2.36733552e-02, 1.22528072e-01, 2.47754577e-01, 4.79953218e-01,\n",
       "         7.30504103e-01, 1.10081122e+00, 6.54927903e-03, 9.66697258e+00]),\n",
       "  array([2.38131253e-02, 1.23082471e-01, 2.47780843e-01, 4.80313981e-01,\n",
       "         2.79513699e-01, 1.10086355e+00, 4.50825742e-01, 1.10089979e+00,\n",
       "         6.54797333e-03, 9.66870196e+00])],\n",
       " (array([-1049.225648  , -1706.24557863, -1722.67315349, -1720.45813228,\n",
       "         -1716.45813126]),\n",
       "  array([5.79071588e-147, 2.70892788e-004, 1.00000000e+000, 3.30380385e-001,\n",
       "         4.47121003e-002]),\n",
       "  array([-1043.52158747, -1694.83745757, -1705.56097191, -1697.64189016,\n",
       "         -1687.93782862]),\n",
       "  array([1.73769787e-144, 4.69265308e-003, 1.00000000e+000, 1.90718687e-002,\n",
       "         1.48998899e-004]),\n",
       "  2,\n",
       "  2,\n",
       "  2))"
      ]
     },
     "execution_count": 127,
     "metadata": {},
     "output_type": "execute_result"
    }
   ],
   "source": [
    "resolution(fits_linsqr, solver='exact')"
   ]
  },
  {
   "cell_type": "code",
   "execution_count": 128,
   "metadata": {},
   "outputs": [
    {
     "data": {
      "text/plain": [
       "([array([0.96138964, 0.7900944 ]),\n",
       "  array([0.20684293, 0.35875697, 0.79799428, 1.07460111]),\n",
       "  array([0.17922534, 0.33376844, 0.81751994, 1.03993145, 0.01141524,\n",
       "         5.70409152]),\n",
       "  array([1.25733264e-01, 2.86133975e-01, 3.92129945e-01, 8.06570080e-01,\n",
       "         4.83917651e-01, 1.18630076e+00, 6.55314303e-03, 8.68916830e+00]),\n",
       "  array([ 0.09972043,  0.2521519 ,  0.63821672,  0.83318023,  0.32663954,\n",
       "          1.58483989, -0.07439655,  2.76422795,  0.01836583,  6.51366223])],\n",
       " (array([-1049.225648  , -1706.24557772, -1722.67315001, -1720.25620303,\n",
       "         -1717.0439614 ]),\n",
       "  array([5.79072595e-147, 2.70893137e-004, 1.00000000e+000, 2.98652827e-001,\n",
       "         5.99290265e-002]),\n",
       "  array([-1043.52158747, -1694.83745667, -1705.56096843, -1697.43996091,\n",
       "         -1688.52365876]),\n",
       "  array([1.73770089e-144, 4.69265913e-003, 1.00000000e+000, 1.72403320e-002,\n",
       "         1.99707885e-004]),\n",
       "  2,\n",
       "  2,\n",
       "  2))"
      ]
     },
     "execution_count": 128,
     "metadata": {},
     "output_type": "execute_result"
    }
   ],
   "source": [
    "resolution(fits, method='BFGS')"
   ]
  }
 ],
 "metadata": {
  "kernelspec": {
   "display_name": "base",
   "language": "python",
   "name": "python3"
  },
  "language_info": {
   "codemirror_mode": {
    "name": "ipython",
    "version": 3
   },
   "file_extension": ".py",
   "mimetype": "text/x-python",
   "name": "python",
   "nbconvert_exporter": "python",
   "pygments_lexer": "ipython3",
   "version": "3.9.7"
  },
  "orig_nbformat": 4
 },
 "nbformat": 4,
 "nbformat_minor": 2
}
